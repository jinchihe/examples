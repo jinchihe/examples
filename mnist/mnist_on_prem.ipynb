{
 "cells": [
  {
   "cell_type": "markdown",
   "metadata": {},
   "source": [
    "# MNIST E2E on Kubeflow for On-Promise Cluster\n",
    "\n",
    "This example guides you through:\n",
    "  1. Taking an example TensorFlow model and modifying it to support distributed training\n",
    "  1. Using Kubeflow Fairing to build docker image and launch a TFJob to train model\n",
    "  1. Using Kubeflow Fairing to create InferenceService (KFServing) to deploy the trained model.\n",
    "  1. Clean up the TFJob and InferenceService using `kubeflow-tfjob` and `kfserving` SDK client\n",
    "  \n",
    "## Requirements\n",
    "\n",
    "  * The Kubeflow 0.7 or higher has been installed."
   ]
  },
  {
   "cell_type": "markdown",
   "metadata": {},
   "source": [
    "## Prepare model\n",
    "\n",
    "There is a delta between existing distributed mnist examples and what's needed to run well as a TFJob.\n",
    "\n",
    "Basically, we must:\n",
    "\n",
    "1. Add options in order to make the model configurable.\n",
    "1. Use `tf.estimator.train_and_evaluate` to enable model exporting and serving.\n",
    "1. Define serving signatures for model serving.\n",
    "\n",
    "The resulting model is [model.py](model.py)."
   ]
  },
  {
   "cell_type": "markdown",
   "metadata": {},
   "source": [
    "## Install Required Libraries\n",
    "\n",
    "Import the libraries required to train this model."
   ]
  },
  {
   "cell_type": "code",
   "execution_count": 1,
   "metadata": {},
   "outputs": [],
   "source": [
    "!pip install kubeflow-fairing>=0.7.1\n",
    "!pip install kubeflow-tfjob>=0.1.3"
   ]
  },
  {
   "cell_type": "code",
   "execution_count": 2,
   "metadata": {},
   "outputs": [
    {
     "data": {
      "text/plain": [
       "<module 'kubeflow' from '/opt/python/python36/lib/python3.6/site-packages/kubeflow/__init__.py'>"
      ]
     },
     "execution_count": 2,
     "metadata": {},
     "output_type": "execute_result"
    }
   ],
   "source": [
    "from importlib import reload\n",
    "# Force a reload of kubeflow; since kubeflow is a multi namespace module\n",
    "# it looks like doing this in notebook_setup may not be sufficient\n",
    "import kubeflow\n",
    "reload(kubeflow)"
   ]
  },
  {
   "cell_type": "markdown",
   "metadata": {},
   "source": [
    "## Configure The Docker Registry For Kubeflow Fairing\n",
    "\n",
    "* In order to build docker images from your notebook we need a docker registry where the images will be stored"
   ]
  },
  {
   "cell_type": "code",
   "execution_count": 3,
   "metadata": {},
   "outputs": [],
   "source": [
    "# Set docker registry to store image.\n",
    "# Ensure you have permission for pushing docker image requests. \n",
    "DOCKER_REGISTRY = 'index.docker.io/jinchi'\n",
    "\n",
    "# Set namespace. Note that the created PVC should be in the namespace.\n",
    "my_namespace = 'hejinchi'\n",
    "# You also can get the default target namepspace using below API.\n",
    "#namespace = fairing_utils.get_default_target_namespace()"
   ]
  },
  {
   "cell_type": "markdown",
   "metadata": {},
   "source": [
    "## Create PV/PVC to Store The Exported Model \n",
    "\n",
    "Refer to the [document](https://kubernetes.io/docs/concepts/storage/persistent-volumes/) to create Persistent Volume(PV) and Persistent Volume Claim(PVC), the PVC will be used by pods of training and serving for local mode in steps below."
   ]
  },
  {
   "cell_type": "code",
   "execution_count": 4,
   "metadata": {},
   "outputs": [],
   "source": [
    "# To satify the distributed training, the PVC should be access from all nodes in the cluster.\n",
    "# The example create a NFS PV to satify that.\n",
    "# Assume the created PVC name is 'mnist-pvc' in the example.\n",
    "nfs_server = '172.16.189.69'\n",
    "nfs_path = '/opt/kubeflow/data/mnist'\n",
    "pvc_name = 'mnist-pvc'\n",
    "\n",
    "pvc_pvc = f'''\n",
    "apiVersion: v1\n",
    "kind: PersistentVolume\n",
    "metadata:\n",
    "  name: kubeflow-mnist\n",
    "spec:\n",
    "  capacity:\n",
    "    storage: 10Gi\n",
    "  accessModes:\n",
    "  - ReadWriteMany\n",
    "  persistentVolumeReclaimPolicy: Retain\n",
    "  nfs:\n",
    "    path: {nfs_path}\n",
    "    server: {nfs_server}\n",
    "---\n",
    "apiVersion: v1\n",
    "kind: PersistentVolumeClaim\n",
    "metadata:\n",
    "  name: {pvc_name}\n",
    "  namespace: {my_namespace}\n",
    "spec:\n",
    "  accessModes:\n",
    "    - ReadWriteMany\n",
    "  storageClassName: \"\"\n",
    "  resources:\n",
    "    requests:\n",
    "      storage: 10Gi\n",
    "'''"
   ]
  },
  {
   "cell_type": "markdown",
   "metadata": {},
   "source": [
    "You could write the spec to a YAML file and then do `kubectl apply -f {FILE}`"
   ]
  },
  {
   "cell_type": "markdown",
   "metadata": {},
   "source": [
    "## Use Kubeflow fairing to build the docker image and launch a TFJob for training\n",
    "\n",
    "* Use kubeflow fairing to build a docker image that includes all your dependencies\n",
    "* Launch a TFJob in the on premise cluster to taining model."
   ]
  },
  {
   "cell_type": "markdown",
   "metadata": {},
   "source": [
    "Firstly set some custom training parameters for TFJob."
   ]
  },
  {
   "cell_type": "code",
   "execution_count": 5,
   "metadata": {},
   "outputs": [],
   "source": [
    "num_ps = 1  #number of PS in TFJob \n",
    "num_workers = 2  #number of Worker in TFJob \n",
    "model_dir = \"/mnt\"\n",
    "export_path = \"/mnt/export\" \n",
    "train_steps = \"200\"\n",
    "batch_size = \"100\"\n",
    "learning_rate = \"0.01\""
   ]
  },
  {
   "cell_type": "markdown",
   "metadata": {},
   "source": [
    "Then use kubeflow fairing to build a docker image and push to docker registry, and then launch a TFJob in the on-prem cluster to train model."
   ]
  },
  {
   "cell_type": "code",
   "execution_count": 6,
   "metadata": {},
   "outputs": [
    {
     "name": "stderr",
     "output_type": "stream",
     "text": [
      "[I 200220 02:39:49 config:125] Using preprocessor: <kubeflow.fairing.preprocessors.base.BasePreProcessor object at 0x7f0cd82cf4a8>\n",
      "[I 200220 02:39:49 config:127] Using builder: <kubeflow.fairing.builders.docker.docker.DockerBuilder object at 0x7f0cd82cf4e0>\n",
      "[I 200220 02:39:49 config:129] Using deployer: <kubeflow.fairing.deployers.tfjob.tfjob.TfJob object at 0x7f0cd82cf518>\n",
      "[I 200220 02:39:49 docker:32] Building image using docker\n",
      "[W 200220 02:39:49 docker:41] Docker command: ['python', '/opt/model.py', '--tf-model-dir=/mnt', '--tf-export-dir=/mnt/export', '--tf-train-steps=200', '--tf-batch-size=100', '--tf-learning-rate=0.01']\n",
      "[I 200220 02:39:49 base:107] Creating docker context: /tmp/fairing_context_xom0160i\n",
      "[W 200220 02:39:49 base:94] Dockerfile already exists in Fairing context, skipping...\n",
      "[W 200220 02:39:49 docker:56] Building docker image index.docker.io/jinchi/mnist:6754BE8A...\n",
      "[I 200220 02:39:49 docker:103] Build output: Step 1/5 : FROM tensorflow/tensorflow:1.15.2-py3\n",
      "[I 200220 02:39:49 docker:103] Build output: \n",
      "[I 200220 02:39:49 docker:103] Build output: ---> b2b972268a17\n",
      "[I 200220 02:39:49 docker:103] Build output: Step 2/5 : ADD model.py /opt/model.py\n",
      "[I 200220 02:39:49 docker:103] Build output: \n",
      "[I 200220 02:39:49 docker:103] Build output: ---> Using cache\n",
      "[I 200220 02:39:49 docker:103] Build output: ---> d168bda494ea\n",
      "[I 200220 02:39:49 docker:103] Build output: Step 3/5 : RUN chmod +x /opt/model.py\n",
      "[I 200220 02:39:49 docker:103] Build output: \n",
      "[I 200220 02:39:49 docker:103] Build output: ---> Using cache\n",
      "[I 200220 02:39:49 docker:103] Build output: ---> f483e735d739\n",
      "[I 200220 02:39:49 docker:103] Build output: Step 4/5 : ENTRYPOINT [\"/usr/bin/python\"]\n",
      "[I 200220 02:39:49 docker:103] Build output: \n",
      "[I 200220 02:39:49 docker:103] Build output: ---> Using cache\n",
      "[I 200220 02:39:49 docker:103] Build output: ---> 3fce9b91e767\n",
      "[I 200220 02:39:49 docker:103] Build output: Step 5/5 : CMD [\"/opt/model.py\"]\n",
      "[I 200220 02:39:49 docker:103] Build output: \n",
      "[I 200220 02:39:49 docker:103] Build output: ---> Using cache\n",
      "[I 200220 02:39:49 docker:103] Build output: ---> 9689cfb352c3\n",
      "[I 200220 02:39:49 docker:103] Push finished: {'ID': 'sha256:9689cfb352c33905ea154d2003064970a98181664b77a0e1757f4324a98ae4b2'}\n",
      "[I 200220 02:39:49 docker:103] Build output: Successfully built 9689cfb352c3\n",
      "[I 200220 02:39:49 docker:103] Build output: Successfully tagged jinchi/mnist:6754BE8A\n",
      "[W 200220 02:39:49 docker:70] Publishing image index.docker.io/jinchi/mnist:6754BE8A...\n",
      "[I 200220 02:39:49 docker:103] Push output: The push refers to repository [docker.io/jinchi/mnist] None\n",
      "[I 200220 02:39:50 docker:103] Push output: Preparing None\n",
      "[I 200220 02:39:50 docker:103] Push output: Preparing None\n",
      "[I 200220 02:39:50 docker:103] Push output: Preparing None\n",
      "[I 200220 02:39:50 docker:103] Push output: Preparing None\n",
      "[I 200220 02:39:50 docker:103] Push output: Preparing None\n",
      "[I 200220 02:39:50 docker:103] Push output: Preparing None\n",
      "[I 200220 02:39:50 docker:103] Push output: Preparing None\n",
      "[I 200220 02:39:50 docker:103] Push output: Preparing None\n",
      "[I 200220 02:39:50 docker:103] Push output: Preparing None\n",
      "[I 200220 02:39:50 docker:103] Push output: Preparing None\n",
      "[I 200220 02:39:50 docker:103] Push output: Preparing None\n",
      "[I 200220 02:39:50 docker:103] Push output: Preparing None\n",
      "[I 200220 02:39:50 docker:103] Push output: Waiting None\n",
      "[I 200220 02:39:50 docker:103] Push output: Waiting None\n",
      "[I 200220 02:39:50 docker:103] Push output: Waiting None\n",
      "[I 200220 02:39:50 docker:103] Push output: Waiting None\n",
      "[I 200220 02:39:50 docker:103] Push output: Waiting None\n",
      "[I 200220 02:39:50 docker:103] Push output: Waiting None\n",
      "[I 200220 02:39:50 docker:103] Push output: Waiting None\n",
      "[I 200220 02:39:51 docker:103] Push output: Layer already exists None\n",
      "[I 200220 02:39:51 docker:103] Push output: Layer already exists None\n",
      "[I 200220 02:39:51 docker:103] Push output: Layer already exists None\n",
      "[I 200220 02:39:51 docker:103] Push output: Layer already exists None\n",
      "[I 200220 02:39:51 docker:103] Push output: Layer already exists None\n",
      "[I 200220 02:39:51 docker:103] Push output: Layer already exists None\n",
      "[I 200220 02:39:51 docker:103] Push output: Layer already exists None\n",
      "[I 200220 02:39:51 docker:103] Push output: Layer already exists None\n",
      "[I 200220 02:39:51 docker:103] Push output: Layer already exists None\n",
      "[I 200220 02:39:51 docker:103] Push output: Layer already exists None\n",
      "[I 200220 02:39:52 docker:103] Push output: Layer already exists None\n",
      "[I 200220 02:39:52 docker:103] Push output: Layer already exists None\n",
      "[I 200220 02:39:53 docker:103] Push output: 6754BE8A: digest: sha256:e03bfebc51935277f07ee2b924a75875069fdaa02e0fc81795a73c98ea8aaedc size: 2828 None\n",
      "[I 200220 02:39:53 docker:103] Push finished: {'Tag': '6754BE8A', 'Digest': 'sha256:e03bfebc51935277f07ee2b924a75875069fdaa02e0fc81795a73c98ea8aaedc', 'Size': 2828}\n",
      "[W 200220 02:39:53 job:90] The tfjob fairing-tfjob-zt5lh launched.\n"
     ]
    },
    {
     "data": {
      "text/plain": [
       "(<kubeflow.fairing.preprocessors.base.BasePreProcessor at 0x7f0cd82cf4a8>,\n",
       " <kubeflow.fairing.builders.docker.docker.DockerBuilder at 0x7f0cd82cf4e0>,\n",
       " <kubeflow.fairing.deployers.tfjob.tfjob.TfJob at 0x7f0cd82cf518>)"
      ]
     },
     "execution_count": 6,
     "metadata": {},
     "output_type": "execute_result"
    }
   ],
   "source": [
    "from kubeflow import fairing   \n",
    "from kubeflow.fairing.kubernetes.utils import mounting_pvc\n",
    "\n",
    "output_map =  {\n",
    "    \"Dockerfile.model\": \"Dockerfile\",\n",
    "    \"model.py\": \"model.py\"\n",
    "}\n",
    "\n",
    "command=[\"python\",\n",
    "         \"/opt/model.py\",\n",
    "         \"--tf-model-dir=\" + model_dir,\n",
    "         \"--tf-export-dir=\" + export_path,\n",
    "         \"--tf-train-steps=\" + train_steps,\n",
    "         \"--tf-batch-size=\" + batch_size,\n",
    "         \"--tf-learning-rate=\" + learning_rate]\n",
    "\n",
    "fairing.config.set_preprocessor('python', command=command, path_prefix=\"/app\", output_map=output_map)\n",
    "fairing.config.set_builder(name='docker', registry=DOCKER_REGISTRY, base_image=\"\",\n",
    "                           image_name=\"mnist\", dockerfile_path=\"Dockerfile\")\n",
    "fairing.config.set_deployer(name='tfjob', namespace=my_namespace, stream_log=False,\n",
    "                            worker_count=num_workers, ps_count=num_ps,\n",
    "                            pod_spec_mutators = [mounting_pvc(pvc_name=pvc_name, pvc_mount_path='/mnt')])\n",
    "fairing.config.run()"
   ]
  },
  {
   "cell_type": "markdown",
   "metadata": {},
   "source": [
    "### Get The Created TFJobs"
   ]
  },
  {
   "cell_type": "code",
   "execution_count": 7,
   "metadata": {},
   "outputs": [
    {
     "data": {
      "text/plain": [
       "{'apiVersion': 'kubeflow.org/v1',\n",
       " 'kind': 'TFJob',\n",
       " 'metadata': {'creationTimestamp': '2020-02-20T06:58:25Z',\n",
       "  'generateName': 'fairing-tfjob-',\n",
       "  'generation': 1,\n",
       "  'labels': {'fairing-deployer': 'tfjob',\n",
       "   'fairing-id': '643f4a6a-53ae-11ea-8d92-00163e01bd45'},\n",
       "  'name': 'fairing-tfjob-zzxp2',\n",
       "  'namespace': 'hejinchi',\n",
       "  'resourceVersion': '3467592',\n",
       "  'selfLink': '/apis/kubeflow.org/v1/namespaces/hejinchi/tfjobs/fairing-tfjob-zzxp2',\n",
       "  'uid': 'b82aeb27-c26d-4fdd-bde2-541589156db3'},\n",
       " 'spec': {'tfReplicaSpecs': {'Chief': {'replicas': 1,\n",
       "    'template': {'metadata': {'annotations': {'sidecar.istio.io/inject': 'false'},\n",
       "      'labels': {'fairing-deployer': 'tfjob',\n",
       "       'fairing-id': '643f4a6a-53ae-11ea-8d92-00163e01bd45'},\n",
       "      'name': 'fairing-deployer'},\n",
       "     'spec': {'containers': [{'command': ['python',\n",
       "         '/opt/model.py',\n",
       "         '--tf-model-dir=/mnt',\n",
       "         '--tf-export-dir=/mnt/export',\n",
       "         '--tf-train-steps=200',\n",
       "         '--tf-batch-size=100',\n",
       "         '--tf-learning-rate=0.01'],\n",
       "        'env': [{'name': 'FAIRING_RUNTIME', 'value': '1'}],\n",
       "        'image': 'index.docker.io/jinchi/mnist:6E137F7',\n",
       "        'name': 'tensorflow',\n",
       "        'securityContext': {'runAsUser': 0},\n",
       "        'volumeMounts': [{'mountPath': '/mnt',\n",
       "          'name': 'fairing-volume-mnist-pvc'}],\n",
       "        'workingDir': '/app'}],\n",
       "      'restartPolicy': 'Never',\n",
       "      'volumes': [{'name': 'fairing-volume-mnist-pvc',\n",
       "        'persistentVolumeClaim': {'claimName': 'mnist-pvc'}}]}}},\n",
       "   'PS': {'replicas': 1,\n",
       "    'template': {'metadata': {'annotations': {'sidecar.istio.io/inject': 'false'},\n",
       "      'labels': {'fairing-deployer': 'tfjob',\n",
       "       'fairing-id': '643f4a6a-53ae-11ea-8d92-00163e01bd45'},\n",
       "      'name': 'fairing-deployer'},\n",
       "     'spec': {'containers': [{'command': ['python',\n",
       "         '/opt/model.py',\n",
       "         '--tf-model-dir=/mnt',\n",
       "         '--tf-export-dir=/mnt/export',\n",
       "         '--tf-train-steps=200',\n",
       "         '--tf-batch-size=100',\n",
       "         '--tf-learning-rate=0.01'],\n",
       "        'env': [{'name': 'FAIRING_RUNTIME', 'value': '1'}],\n",
       "        'image': 'index.docker.io/jinchi/mnist:6E137F7',\n",
       "        'name': 'tensorflow',\n",
       "        'securityContext': {'runAsUser': 0},\n",
       "        'volumeMounts': [{'mountPath': '/mnt',\n",
       "          'name': 'fairing-volume-mnist-pvc'}],\n",
       "        'workingDir': '/app'}],\n",
       "      'restartPolicy': 'Never',\n",
       "      'volumes': [{'name': 'fairing-volume-mnist-pvc',\n",
       "        'persistentVolumeClaim': {'claimName': 'mnist-pvc'}}]}}},\n",
       "   'Worker': {'replicas': 2,\n",
       "    'template': {'metadata': {'annotations': {'sidecar.istio.io/inject': 'false'},\n",
       "      'labels': {'fairing-deployer': 'tfjob',\n",
       "       'fairing-id': '643f4a6a-53ae-11ea-8d92-00163e01bd45'},\n",
       "      'name': 'fairing-deployer'},\n",
       "     'spec': {'containers': [{'command': ['python',\n",
       "         '/opt/model.py',\n",
       "         '--tf-model-dir=/mnt',\n",
       "         '--tf-export-dir=/mnt/export',\n",
       "         '--tf-train-steps=200',\n",
       "         '--tf-batch-size=100',\n",
       "         '--tf-learning-rate=0.01'],\n",
       "        'env': [{'name': 'FAIRING_RUNTIME', 'value': '1'}],\n",
       "        'image': 'index.docker.io/jinchi/mnist:6E137F7',\n",
       "        'name': 'tensorflow',\n",
       "        'securityContext': {'runAsUser': 0},\n",
       "        'volumeMounts': [{'mountPath': '/mnt',\n",
       "          'name': 'fairing-volume-mnist-pvc'}],\n",
       "        'workingDir': '/app'}],\n",
       "      'restartPolicy': 'Never',\n",
       "      'volumes': [{'name': 'fairing-volume-mnist-pvc',\n",
       "        'persistentVolumeClaim': {'claimName': 'mnist-pvc'}}]}}}}},\n",
       " 'status': {'completionTime': '2020-02-20T06:58:36Z',\n",
       "  'conditions': [{'lastTransitionTime': '2020-02-20T06:58:26Z',\n",
       "    'lastUpdateTime': '2020-02-20T06:58:26Z',\n",
       "    'message': 'TFJob fairing-tfjob-zzxp2 is created.',\n",
       "    'reason': 'TFJobCreated',\n",
       "    'status': 'True',\n",
       "    'type': 'Created'},\n",
       "   {'lastTransitionTime': '2020-02-20T06:58:29Z',\n",
       "    'lastUpdateTime': '2020-02-20T06:58:29Z',\n",
       "    'message': 'TFJob fairing-tfjob-zzxp2 is running.',\n",
       "    'reason': 'TFJobRunning',\n",
       "    'status': 'False',\n",
       "    'type': 'Running'},\n",
       "   {'lastTransitionTime': '2020-02-20T06:58:36Z',\n",
       "    'lastUpdateTime': '2020-02-20T06:58:36Z',\n",
       "    'message': 'TFJob fairing-tfjob-zzxp2 successfully completed.',\n",
       "    'reason': 'TFJobSucceeded',\n",
       "    'status': 'True',\n",
       "    'type': 'Succeeded'}],\n",
       "  'replicaStatuses': {'Chief': {'succeeded': 1},\n",
       "   'PS': {'succeeded': 1},\n",
       "   'Worker': {'succeeded': 2}},\n",
       "  'startTime': '2020-02-20T06:58:26Z'}}"
      ]
     },
     "execution_count": 7,
     "metadata": {},
     "output_type": "execute_result"
    }
   ],
   "source": [
    "from kubeflow.tfjob import TFJobClient\n",
    "tfjob_client = TFJobClient()\n",
    "\n",
    "# TBD (@jinchihe) Below code for getting TFJob name will be removed once the issue fixed:\n",
    "# https://github.com/kubeflow/fairing/issues/462\n",
    "tfjobs = tfjob_client.get(namespace=my_namespace)\n",
    "tfjob_name = tfjobs['items'][-1]['metadata'].get('name', '')\n",
    "\n",
    "tfjob_client.get(tfjob_name, namespace=my_namespace)"
   ]
  },
  {
   "cell_type": "markdown",
   "metadata": {},
   "source": [
    "### Wait For the Training Job to finish"
   ]
  },
  {
   "cell_type": "code",
   "execution_count": 8,
   "metadata": {},
   "outputs": [
    {
     "name": "stdout",
     "output_type": "stream",
     "text": [
      "NAME                           STATE                TIME                          \n",
      "fairing-tfjob-zzxp2            Succeeded            2020-02-20T06:58:36Z          \n"
     ]
    }
   ],
   "source": [
    "tfjob_client.wait_for_job(tfjob_name, namespace=my_namespace, watch=True)"
   ]
  },
  {
   "cell_type": "markdown",
   "metadata": {},
   "source": [
    "### Check if the TFJob succeeded."
   ]
  },
  {
   "cell_type": "code",
   "execution_count": 9,
   "metadata": {},
   "outputs": [
    {
     "data": {
      "text/plain": [
       "True"
      ]
     },
     "execution_count": 9,
     "metadata": {},
     "output_type": "execute_result"
    }
   ],
   "source": [
    "tfjob_client.is_job_succeeded(tfjob_name, namespace=my_namespace)"
   ]
  },
  {
   "cell_type": "markdown",
   "metadata": {},
   "source": [
    "### Get the Training Logs"
   ]
  },
  {
   "cell_type": "code",
   "execution_count": 10,
   "metadata": {},
   "outputs": [
    {
     "name": "stderr",
     "output_type": "stream",
     "text": [
      "[I 200220 02:40:05 tf_job_client:386] The logs of Pod fairing-tfjob-zzxp2-chief-0:\n",
      "     WARNING:tensorflow:From /opt/model.py:233: The name tf.app.run is deprecated. Please use tf.compat.v1.app.run instead.\n",
      "    \n",
      "    WARNING:tensorflow:From /opt/model.py:153: The name tf.logging.set_verbosity is deprecated. Please use tf.compat.v1.logging.set_verbosity instead.\n",
      "    \n",
      "    W0220 06:58:30.525008 139884460164928 module_wrapper.py:139] From /opt/model.py:153: The name tf.logging.set_verbosity is deprecated. Please use tf.compat.v1.logging.set_verbosity instead.\n",
      "    \n",
      "    WARNING:tensorflow:From /opt/model.py:153: The name tf.logging.INFO is deprecated. Please use tf.compat.v1.logging.INFO instead.\n",
      "    \n",
      "    W0220 06:58:30.525343 139884460164928 module_wrapper.py:139] From /opt/model.py:153: The name tf.logging.INFO is deprecated. Please use tf.compat.v1.logging.INFO instead.\n",
      "    \n",
      "    WARNING:tensorflow:From /opt/model.py:158: The name tf.logging.info is deprecated. Please use tf.compat.v1.logging.info instead.\n",
      "    \n",
      "    W0220 06:58:30.526986 139884460164928 module_wrapper.py:139] From /opt/model.py:158: The name tf.logging.info is deprecated. Please use tf.compat.v1.logging.info instead.\n",
      "    \n",
      "    INFO:tensorflow:TF_CONFIG {\"cluster\":{\"chief\":[\"fairing-tfjob-zzxp2-chief-0.hejinchi.svc:2222\"],\"ps\":[\"fairing-tfjob-zzxp2-ps-0.hejinchi.svc:2222\"],\"worker\":[\"fairing-tfjob-zzxp2-worker-0.hejinchi.svc:2222\",\"fairing-tfjob-zzxp2-worker-1.hejinchi.svc:2222\"]},\"task\":{\"type\":\"chief\",\"index\":0},\"environment\":\"cloud\"}\n",
      "    I0220 06:58:30.527126 139884460164928 model.py:158] TF_CONFIG {\"cluster\":{\"chief\":[\"fairing-tfjob-zzxp2-chief-0.hejinchi.svc:2222\"],\"ps\":[\"fairing-tfjob-zzxp2-ps-0.hejinchi.svc:2222\"],\"worker\":[\"fairing-tfjob-zzxp2-worker-0.hejinchi.svc:2222\",\"fairing-tfjob-zzxp2-worker-1.hejinchi.svc:2222\"]},\"task\":{\"type\":\"chief\",\"index\":0},\"environment\":\"cloud\"}\n",
      "    INFO:tensorflow:cluster={'chief': ['fairing-tfjob-zzxp2-chief-0.hejinchi.svc:2222'], 'ps': ['fairing-tfjob-zzxp2-ps-0.hejinchi.svc:2222'], 'worker': ['fairing-tfjob-zzxp2-worker-0.hejinchi.svc:2222', 'fairing-tfjob-zzxp2-worker-1.hejinchi.svc:2222']} job_name=chief task_index=0\n",
      "    I0220 06:58:30.527894 139884460164928 model.py:164] cluster={'chief': ['fairing-tfjob-zzxp2-chief-0.hejinchi.svc:2222'], 'ps': ['fairing-tfjob-zzxp2-ps-0.hejinchi.svc:2222'], 'worker': ['fairing-tfjob-zzxp2-worker-0.hejinchi.svc:2222', 'fairing-tfjob-zzxp2-worker-1.hejinchi.svc:2222']} job_name=chief task_index=0\n",
      "    INFO:tensorflow:Will export model\n",
      "    I0220 06:58:30.528009 139884460164928 model.py:169] Will export model\n",
      "    WARNING:tensorflow:\n",
      "    The TensorFlow contrib module will not be included in TensorFlow 2.0.\n",
      "    For more information, please see:\n",
      "      * https://github.com/tensorflow/community/blob/master/rfcs/20180907-contrib-sunset.md\n",
      "      * https://github.com/tensorflow/addons\n",
      "      * https://github.com/tensorflow/io (for I/O related ops)\n",
      "    If you depend on functionality not listed there, please file an issue.\n",
      "    \n",
      "    W0220 06:58:30.528125 139884460164928 lazy_loader.py:50] \n",
      "    The TensorFlow contrib module will not be included in TensorFlow 2.0.\n",
      "    For more information, please see:\n",
      "      * https://github.com/tensorflow/community/blob/master/rfcs/20180907-contrib-sunset.md\n",
      "      * https://github.com/tensorflow/addons\n",
      "      * https://github.com/tensorflow/io (for I/O related ops)\n",
      "    If you depend on functionality not listed there, please file an issue.\n",
      "    \n",
      "    WARNING:tensorflow:From /opt/model.py:174: load_mnist (from tensorflow.contrib.learn.python.learn.datasets.mnist) is deprecated and will be removed in a future version.\n",
      "    Instructions for updating:\n",
      "    Please use alternatives such as official/mnist/dataset.py from tensorflow/models.\n",
      "    W0220 06:58:31.088406 139884460164928 deprecation.py:323] From /opt/model.py:174: load_mnist (from tensorflow.contrib.learn.python.learn.datasets.mnist) is deprecated and will be removed in a future version.\n",
      "    Instructions for updating:\n",
      "    Please use alternatives such as official/mnist/dataset.py from tensorflow/models.\n",
      "    WARNING:tensorflow:From /usr/local/lib/python3.6/dist-packages/tensorflow_core/contrib/learn/python/learn/datasets/mnist.py:300: read_data_sets (from tensorflow.contrib.learn.python.learn.datasets.mnist) is deprecated and will be removed in a future version.\n",
      "    Instructions for updating:\n",
      "    Please use alternatives such as official/mnist/dataset.py from tensorflow/models.\n",
      "    W0220 06:58:31.088801 139884460164928 deprecation.py:323] From /usr/local/lib/python3.6/dist-packages/tensorflow_core/contrib/learn/python/learn/datasets/mnist.py:300: read_data_sets (from tensorflow.contrib.learn.python.learn.datasets.mnist) is deprecated and will be removed in a future version.\n",
      "    Instructions for updating:\n",
      "    Please use alternatives such as official/mnist/dataset.py from tensorflow/models.\n",
      "    WARNING:tensorflow:From /usr/local/lib/python3.6/dist-packages/tensorflow_core/contrib/learn/python/learn/datasets/mnist.py:260: maybe_download (from tensorflow.contrib.learn.python.learn.datasets.base) is deprecated and will be removed in a future version.\n",
      "    Instructions for updating:\n",
      "    Please write your own downloading logic.\n",
      "    W0220 06:58:31.088970 139884460164928 deprecation.py:323] From /usr/local/lib/python3.6/dist-packages/tensorflow_core/contrib/learn/python/learn/datasets/mnist.py:260: maybe_download (from tensorflow.contrib.learn.python.learn.datasets.base) is deprecated and will be removed in a future version.\n",
      "    Instructions for updating:\n",
      "    Please write your own downloading logic.\n",
      "    WARNING:tensorflow:From /usr/local/lib/python3.6/dist-packages/tensorflow_core/contrib/learn/python/learn/datasets/base.py:252: _internal_retry.<locals>.wrap.<locals>.wrapped_fn (from tensorflow.contrib.learn.python.learn.datasets.base) is deprecated and will be removed in a future version.\n",
      "    Instructions for updating:\n",
      "    Please use urllib or similar directly.\n",
      "    W0220 06:58:31.089413 139884460164928 deprecation.py:323] From /usr/local/lib/python3.6/dist-packages/tensorflow_core/contrib/learn/python/learn/datasets/base.py:252: _internal_retry.<locals>.wrap.<locals>.wrapped_fn (from tensorflow.contrib.learn.python.learn.datasets.base) is deprecated and will be removed in a future version.\n",
      "    Instructions for updating:\n",
      "    Please use urllib or similar directly.\n",
      "    WARNING:tensorflow:From /usr/local/lib/python3.6/dist-packages/tensorflow_core/contrib/learn/python/learn/datasets/mnist.py:262: extract_images (from tensorflow.contrib.learn.python.learn.datasets.mnist) is deprecated and will be removed in a future version.\n",
      "    Instructions for updating:\n",
      "    Please use tf.data to implement this functionality.\n",
      "    W0220 06:58:32.030198 139884460164928 deprecation.py:323] From /usr/local/lib/python3.6/dist-packages/tensorflow_core/contrib/learn/python/learn/datasets/mnist.py:262: extract_images (from tensorflow.contrib.learn.python.learn.datasets.mnist) is deprecated and will be removed in a future version.\n",
      "    Instructions for updating:\n",
      "    Please use tf.data to implement this functionality.\n",
      "    WARNING:tensorflow:From /usr/local/lib/python3.6/dist-packages/tensorflow_core/contrib/learn/python/learn/datasets/mnist.py:267: extract_labels (from tensorflow.contrib.learn.python.learn.datasets.mnist) is deprecated and will be removed in a future version.\n",
      "    Instructions for updating:\n",
      "    Please use tf.data to implement this functionality.\n",
      "    W0220 06:58:32.730290 139884460164928 deprecation.py:323] From /usr/local/lib/python3.6/dist-packages/tensorflow_core/contrib/learn/python/learn/datasets/mnist.py:267: extract_labels (from tensorflow.contrib.learn.python.learn.datasets.mnist) is deprecated and will be removed in a future version.\n",
      "    Instructions for updating:\n",
      "    Please use tf.data to implement this functionality.\n",
      "    WARNING:tensorflow:From /usr/local/lib/python3.6/dist-packages/tensorflow_core/contrib/learn/python/learn/datasets/mnist.py:290: DataSet.__init__ (from tensorflow.contrib.learn.python.learn.datasets.mnist) is deprecated and will be removed in a future version.\n",
      "    Instructions for updating:\n",
      "    Please use alternatives such as official/mnist/dataset.py from tensorflow/models.\n",
      "    W0220 06:58:33.589100 139884460164928 deprecation.py:323] From /usr/local/lib/python3.6/dist-packages/tensorflow_core/contrib/learn/python/learn/datasets/mnist.py:290: DataSet.__init__ (from tensorflow.contrib.learn.python.learn.datasets.mnist) is deprecated and will be removed in a future version.\n",
      "    Instructions for updating:\n",
      "    Please use alternatives such as official/mnist/dataset.py from tensorflow/models.\n",
      "    WARNING:tensorflow:From /opt/model.py:175: The name tf.estimator.inputs is deprecated. Please use tf.compat.v1.estimator.inputs instead.\n",
      "    \n",
      "    W0220 06:58:33.958612 139884460164928 module_wrapper.py:139] From /opt/model.py:175: The name tf.estimator.inputs is deprecated. Please use tf.compat.v1.estimator.inputs instead.\n",
      "    \n",
      "    WARNING:tensorflow:From /opt/model.py:175: The name tf.estimator.inputs.numpy_input_fn is deprecated. Please use tf.compat.v1.estimator.inputs.numpy_input_fn instead.\n",
      "    \n",
      "    W0220 06:58:33.958983 139884460164928 module_wrapper.py:139] From /opt/model.py:175: The name tf.estimator.inputs.numpy_input_fn is deprecated. Please use tf.compat.v1.estimator.inputs.numpy_input_fn instead.\n",
      "    \n",
      "    INFO:tensorflow:TF_CONFIG environment variable: {'cluster': {'chief': ['fairing-tfjob-zzxp2-chief-0.hejinchi.svc:2222'], 'ps': ['fairing-tfjob-zzxp2-ps-0.hejinchi.svc:2222'], 'worker': ['fairing-tfjob-zzxp2-worker-0.hejinchi.svc:2222', 'fairing-tfjob-zzxp2-worker-1.hejinchi.svc:2222']}, 'task': {'type': 'chief', 'index': 0}, 'environment': 'cloud'}\n",
      "    I0220 06:58:33.959348 139884460164928 run_config.py:535] TF_CONFIG environment variable: {'cluster': {'chief': ['fairing-tfjob-zzxp2-chief-0.hejinchi.svc:2222'], 'ps': ['fairing-tfjob-zzxp2-ps-0.hejinchi.svc:2222'], 'worker': ['fairing-tfjob-zzxp2-worker-0.hejinchi.svc:2222', 'fairing-tfjob-zzxp2-worker-1.hejinchi.svc:2222']}, 'task': {'type': 'chief', 'index': 0}, 'environment': 'cloud'}\n",
      "    INFO:tensorflow:Using config: {'_model_dir': '/mnt', '_tf_random_seed': None, '_save_summary_steps': 100, '_save_checkpoints_steps': 1000, '_save_checkpoints_secs': None, '_session_config': device_filters: \"/job:ps\"\n",
      "    device_filters: \"/job:chief\"\n",
      "    allow_soft_placement: true\n",
      "    graph_options {\n",
      "      rewrite_options {\n",
      "        meta_optimizer_iterations: ONE\n",
      "      }\n",
      "    }\n",
      "    , '_keep_checkpoint_max': 5, '_keep_checkpoint_every_n_hours': 10000, '_log_step_count_steps': 100, '_train_distribute': None, '_device_fn': None, '_protocol': None, '_eval_distribute': None, '_experimental_distribute': None, '_experimental_max_worker_delay_secs': None, '_session_creation_timeout_secs': 7200, '_service': None, '_cluster_spec': <tensorflow.python.training.server_lib.ClusterSpec object at 0x7f3931d20048>, '_task_type': 'chief', '_task_id': 0, '_evaluation_master': '', '_master': 'grpc://fairing-tfjob-zzxp2-chief-0.hejinchi.svc:2222', '_num_ps_replicas': 1, '_num_worker_replicas': 3, '_global_id_in_cluster': 0, '_is_chief': True}\n",
      "    I0220 06:58:33.960720 139884460164928 estimator.py:212] Using config: {'_model_dir': '/mnt', '_tf_random_seed': None, '_save_summary_steps': 100, '_save_checkpoints_steps': 1000, '_save_checkpoints_secs': None, '_session_config': device_filters: \"/job:ps\"\n",
      "    device_filters: \"/job:chief\"\n",
      "    allow_soft_placement: true\n",
      "    graph_options {\n",
      "      rewrite_options {\n",
      "        meta_optimizer_iterations: ONE\n",
      "      }\n",
      "    }\n",
      "    , '_keep_checkpoint_max': 5, '_keep_checkpoint_every_n_hours': 10000, '_log_step_count_steps': 100, '_train_distribute': None, '_device_fn': None, '_protocol': None, '_eval_distribute': None, '_experimental_distribute': None, '_experimental_max_worker_delay_secs': None, '_session_creation_timeout_secs': 7200, '_service': None, '_cluster_spec': <tensorflow.python.training.server_lib.ClusterSpec object at 0x7f3931d20048>, '_task_type': 'chief', '_task_id': 0, '_evaluation_master': '', '_master': 'grpc://fairing-tfjob-zzxp2-chief-0.hejinchi.svc:2222', '_num_ps_replicas': 1, '_num_worker_replicas': 3, '_global_id_in_cluster': 0, '_is_chief': True}\n",
      "    INFO:tensorflow:Not using Distribute Coordinator.\n",
      "    I0220 06:58:33.961713 139884460164928 estimator_training.py:186] Not using Distribute Coordinator.\n",
      "    INFO:tensorflow:Start Tensorflow server.\n",
      "    I0220 06:58:33.962194 139884460164928 training.py:744] Start Tensorflow server.\n",
      "    2020-02-20 06:58:33.962709: I tensorflow/core/platform/cpu_feature_guard.cc:142] Your CPU supports instructions that this TensorFlow binary was not compiled to use: AVX2 AVX512F FMA\n",
      "    2020-02-20 06:58:33.973212: I tensorflow/core/platform/profile_utils/cpu_utils.cc:94] CPU Frequency: 2399995000 Hz\n",
      "    2020-02-20 06:58:33.975831: I tensorflow/compiler/xla/service/service.cc:168] XLA service 0x3a6d070 initialized for platform Host (this does not guarantee that XLA will be used). Devices:\n",
      "    2020-02-20 06:58:33.975870: I tensorflow/compiler/xla/service/service.cc:176]   StreamExecutor device (0): Host, Default Version\n",
      "    2020-02-20 06:58:33.978432: I tensorflow/core/distributed_runtime/rpc/grpc_channel.cc:258] Initialize GrpcChannelCache for job chief -> {0 -> localhost:2222}\n",
      "    2020-02-20 06:58:33.978452: I tensorflow/core/distributed_runtime/rpc/grpc_channel.cc:258] Initialize GrpcChannelCache for job ps -> {0 -> fairing-tfjob-zzxp2-ps-0.hejinchi.svc:2222}\n",
      "    2020-02-20 06:58:33.978460: I tensorflow/core/distributed_runtime/rpc/grpc_channel.cc:258] Initialize GrpcChannelCache for job worker -> {0 -> fairing-tfjob-zzxp2-worker-0.hejinchi.svc:2222, 1 -> fairing-tfjob-zzxp2-worker-1.hejinchi.svc:2222}\n",
      "    2020-02-20 06:58:33.990921: I tensorflow/core/distributed_runtime/rpc/grpc_server_lib.cc:365] Started server with target: grpc://localhost:2222\n",
      "    INFO:tensorflow:Skipping training since max_steps has already saved.\n",
      "    I0220 06:58:34.055256 139884460164928 estimator.py:363] Skipping training since max_steps has already saved.\n",
      "    WARNING:tensorflow:From /opt/model.py:229: Estimator.export_savedmodel (from tensorflow_estimator.python.estimator.estimator) is deprecated and will be removed in a future version.\n",
      "    Instructions for updating:\n",
      "    This function has been renamed, use `export_saved_model` instead.\n",
      "    W0220 06:58:34.055728 139884460164928 deprecation.py:323] From /opt/model.py:229: Estimator.export_savedmodel (from tensorflow_estimator.python.estimator.estimator) is deprecated and will be removed in a future version.\n",
      "    Instructions for updating:\n",
      "    This function has been renamed, use `export_saved_model` instead.\n",
      "    WARNING:tensorflow:From /opt/model.py:143: The name tf.placeholder is deprecated. Please use tf.compat.v1.placeholder instead.\n",
      "    \n",
      "    W0220 06:58:34.088922 139884460164928 module_wrapper.py:139] From /opt/model.py:143: The name tf.placeholder is deprecated. Please use tf.compat.v1.placeholder instead.\n",
      "    \n",
      "    INFO:tensorflow:Calling model_fn.\n",
      "    I0220 06:58:34.091303 139884460164928 estimator.py:1148] Calling model_fn.\n",
      "    WARNING:tensorflow:From /opt/model.py:76: The name tf.variable_scope is deprecated. Please use tf.compat.v1.variable_scope instead.\n",
      "    \n",
      "    W0220 06:58:34.095400 139884460164928 module_wrapper.py:139] From /opt/model.py:76: The name tf.variable_scope is deprecated. Please use tf.compat.v1.variable_scope instead.\n",
      "    \n",
      "    WARNING:tensorflow:From /opt/model.py:82: conv2d (from tensorflow.python.layers.convolutional) is deprecated and will be removed in a future version.\n",
      "    Instructions for updating:\n",
      "    Use `tf.keras.layers.Conv2D` instead.\n",
      "    W0220 06:58:34.095868 139884460164928 deprecation.py:323] From /opt/model.py:82: conv2d (from tensorflow.python.layers.convolutional) is deprecated and will be removed in a future version.\n",
      "    Instructions for updating:\n",
      "    Use `tf.keras.layers.Conv2D` instead.\n",
      "    WARNING:tensorflow:From /usr/local/lib/python3.6/dist-packages/tensorflow_core/python/layers/convolutional.py:424: Layer.apply (from tensorflow.python.keras.engine.base_layer) is deprecated and will be removed in a future version.\n",
      "    Instructions for updating:\n",
      "    Please use `layer.__call__` method instead.\n",
      "    W0220 06:58:34.097706 139884460164928 deprecation.py:323] From /usr/local/lib/python3.6/dist-packages/tensorflow_core/python/layers/convolutional.py:424: Layer.apply (from tensorflow.python.keras.engine.base_layer) is deprecated and will be removed in a future version.\n",
      "    Instructions for updating:\n",
      "    Please use `layer.__call__` method instead.\n",
      "    WARNING:tensorflow:From /opt/model.py:84: max_pooling2d (from tensorflow.python.layers.pooling) is deprecated and will be removed in a future version.\n",
      "    Instructions for updating:\n",
      "    Use keras.layers.MaxPooling2D instead.\n",
      "    W0220 06:58:34.146193 139884460164928 deprecation.py:323] From /opt/model.py:84: max_pooling2d (from tensorflow.python.layers.pooling) is deprecated and will be removed in a future version.\n",
      "    Instructions for updating:\n",
      "    Use keras.layers.MaxPooling2D instead.\n",
      "    WARNING:tensorflow:From /opt/model.py:100: dense (from tensorflow.python.layers.core) is deprecated and will be removed in a future version.\n",
      "    Instructions for updating:\n",
      "    Use keras.layers.Dense instead.\n",
      "    W0220 06:58:34.176256 139884460164928 deprecation.py:323] From /opt/model.py:100: dense (from tensorflow.python.layers.core) is deprecated and will be removed in a future version.\n",
      "    Instructions for updating:\n",
      "    Use keras.layers.Dense instead.\n",
      "    WARNING:tensorflow:From /opt/model.py:104: dropout (from tensorflow.python.layers.core) is deprecated and will be removed in a future version.\n",
      "    Instructions for updating:\n",
      "    Use keras.layers.dropout instead.\n",
      "    W0220 06:58:34.198303 139884460164928 deprecation.py:323] From /opt/model.py:104: dropout (from tensorflow.python.layers.core) is deprecated and will be removed in a future version.\n",
      "    Instructions for updating:\n",
      "    Use keras.layers.dropout instead.\n",
      "    INFO:tensorflow:Done calling model_fn.\n",
      "    I0220 06:58:34.245861 139884460164928 estimator.py:1150] Done calling model_fn.\n",
      "    WARNING:tensorflow:From /usr/local/lib/python3.6/dist-packages/tensorflow_core/python/saved_model/signature_def_utils_impl.py:201: build_tensor_info (from tensorflow.python.saved_model.utils_impl) is deprecated and will be removed in a future version.\n",
      "    Instructions for updating:\n",
      "    This function will only be available through the v1 compatibility library as tf.compat.v1.saved_model.utils.build_tensor_info or tf.compat.v1.saved_model.build_tensor_info.\n",
      "    W0220 06:58:34.246203 139884460164928 deprecation.py:323] From /usr/local/lib/python3.6/dist-packages/tensorflow_core/python/saved_model/signature_def_utils_impl.py:201: build_tensor_info (from tensorflow.python.saved_model.utils_impl) is deprecated and will be removed in a future version.\n",
      "    Instructions for updating:\n",
      "    This function will only be available through the v1 compatibility library as tf.compat.v1.saved_model.utils.build_tensor_info or tf.compat.v1.saved_model.build_tensor_info.\n",
      "    INFO:tensorflow:Signatures INCLUDED in export for Classify: None\n",
      "    I0220 06:58:34.246751 139884460164928 export_utils.py:170] Signatures INCLUDED in export for Classify: None\n",
      "    INFO:tensorflow:Signatures INCLUDED in export for Regress: None\n",
      "    I0220 06:58:34.246872 139884460164928 export_utils.py:170] Signatures INCLUDED in export for Regress: None\n",
      "    INFO:tensorflow:Signatures INCLUDED in export for Predict: ['classes', 'serving_default']\n",
      "    I0220 06:58:34.246938 139884460164928 export_utils.py:170] Signatures INCLUDED in export for Predict: ['classes', 'serving_default']\n",
      "    INFO:tensorflow:Signatures INCLUDED in export for Train: None\n",
      "    I0220 06:58:34.246989 139884460164928 export_utils.py:170] Signatures INCLUDED in export for Train: None\n",
      "    INFO:tensorflow:Signatures INCLUDED in export for Eval: None\n",
      "    I0220 06:58:34.247110 139884460164928 export_utils.py:170] Signatures INCLUDED in export for Eval: None\n",
      "    INFO:tensorflow:Restoring parameters from /mnt/model.ckpt-204\n",
      "    I0220 06:58:34.286272 139884460164928 saver.py:1284] Restoring parameters from /mnt/model.ckpt-204\n",
      "    INFO:tensorflow:Assets added to graph.\n",
      "    I0220 06:58:34.356378 139884460164928 builder_impl.py:665] Assets added to graph.\n",
      "    INFO:tensorflow:No assets to write.\n",
      "    I0220 06:58:34.356637 139884460164928 builder_impl.py:460] No assets to write.\n",
      "    INFO:tensorflow:SavedModel written to: /mnt/export/temp-b'1582181914'/saved_model.pb\n",
      "    I0220 06:58:34.535825 139884460164928 builder_impl.py:425] SavedModel written to: /mnt/export/temp-b'1582181914'/saved_model.pb\n",
      "    Successfully downloaded train-images-idx3-ubyte.gz 9912422 bytes.\n",
      "    Extracting /tmp/data/train-images-idx3-ubyte.gz\n",
      "    Successfully downloaded train-labels-idx1-ubyte.gz 28881 bytes.\n",
      "    Extracting /tmp/data/train-labels-idx1-ubyte.gz\n",
      "    Successfully downloaded t10k-images-idx3-ubyte.gz 1648877 bytes.\n",
      "    Extracting /tmp/data/t10k-images-idx3-ubyte.gz\n",
      "    Successfully downloaded t10k-labels-idx1-ubyte.gz 4542 bytes.\n",
      "    Extracting /tmp/data/t10k-labels-idx1-ubyte.gz\n",
      "    Train and evaluate\n",
      "    Training done\n",
      "    Export saved model\n",
      "    Done exporting the model\n",
      "    \n"
     ]
    }
   ],
   "source": [
    "tfjob_client.get_logs(tfjob_name, namespace=my_namespace)"
   ]
  },
  {
   "cell_type": "markdown",
   "metadata": {},
   "source": [
    "## Deploy Service using KFServing"
   ]
  },
  {
   "cell_type": "code",
   "execution_count": 11,
   "metadata": {},
   "outputs": [
    {
     "name": "stdout",
     "output_type": "stream",
     "text": [
      "NAME                 READY      DEFAULT_TRAFFIC CANARY_TRAFFIC  URL                                               \n",
      "fairing-kfserving... Unknown                                                                                      \n",
      "fairing-kfserving... False                                                                                        \n",
      "fairing-kfserving... False                                                                                        \n",
      "fairing-kfserving... False                                                                                        \n",
      "fairing-kfserving... True       100                             http://fairing-kfserving-wx78s.hejinchi.example...\n"
     ]
    },
    {
     "name": "stderr",
     "output_type": "stream",
     "text": [
      "[I 200220 02:40:27 kfserving:114] Deployed the InferenceService fairing-kfserving-wx78s successfully.\n"
     ]
    },
    {
     "data": {
      "text/plain": [
       "'fairing-kfserving-wx78s'"
      ]
     },
     "execution_count": 11,
     "metadata": {},
     "output_type": "execute_result"
    }
   ],
   "source": [
    "from kubeflow.fairing.deployers.kfserving.kfserving import KFServing\n",
    "isvc = KFServing('tensorflow', default_storage_uri='pvc://' + pvc_name + '/export', namespace=my_namespace)\n",
    "isvc.deploy(isvc.generate_isvc())"
   ]
  },
  {
   "cell_type": "markdown",
   "metadata": {},
   "source": [
    "### Get the InferenceService"
   ]
  },
  {
   "cell_type": "code",
   "execution_count": 13,
   "metadata": {},
   "outputs": [
    {
     "data": {
      "text/plain": [
       "{'apiVersion': 'serving.kubeflow.org/v1alpha2',\n",
       " 'items': [{'apiVersion': 'serving.kubeflow.org/v1alpha2',\n",
       "   'kind': 'InferenceService',\n",
       "   'metadata': {'creationTimestamp': '2020-02-20T10:40:10Z',\n",
       "    'generateName': 'fairing-kfserving-',\n",
       "    'generation': 5,\n",
       "    'name': 'fairing-kfserving-wx78s',\n",
       "    'namespace': 'hejinchi',\n",
       "    'resourceVersion': '3559436',\n",
       "    'selfLink': '/apis/serving.kubeflow.org/v1alpha2/namespaces/hejinchi/inferenceservices/fairing-kfserving-wx78s',\n",
       "    'uid': 'd2876c95-338d-4d10-aff8-dcbb8772838e'},\n",
       "   'spec': {'default': {'predictor': {'tensorflow': {'resources': {'limits': {'cpu': '1',\n",
       "         'memory': '2Gi'},\n",
       "        'requests': {'cpu': '1', 'memory': '2Gi'}},\n",
       "       'runtimeVersion': '1.14.0',\n",
       "       'storageUri': 'pvc://mnist-pvc/export'}}}},\n",
       "   'status': {'canary': {},\n",
       "    'conditions': [{'lastTransitionTime': '2020-02-20T10:40:27Z',\n",
       "      'status': 'True',\n",
       "      'type': 'DefaultPredictorReady'},\n",
       "     {'lastTransitionTime': '2020-02-20T10:40:27Z',\n",
       "      'status': 'True',\n",
       "      'type': 'Ready'},\n",
       "     {'lastTransitionTime': '2020-02-20T10:40:27Z',\n",
       "      'status': 'True',\n",
       "      'type': 'RoutesReady'}],\n",
       "    'default': {'predictor': {'host': 'fairing-kfserving-wx78s-predictor-default.hejinchi.example.com',\n",
       "      'name': 'fairing-kfserving-wx78s-predictor-default-jdv22'}},\n",
       "    'traffic': 100,\n",
       "    'url': 'http://fairing-kfserving-wx78s.hejinchi.example.com/v1/models/fairing-kfserving-wx78s'}}],\n",
       " 'kind': 'InferenceServiceList',\n",
       " 'metadata': {'continue': '',\n",
       "  'resourceVersion': '3559551',\n",
       "  'selfLink': '/apis/serving.kubeflow.org/v1alpha2/namespaces/hejinchi/inferenceservices'}}"
      ]
     },
     "execution_count": 13,
     "metadata": {},
     "output_type": "execute_result"
    }
   ],
   "source": [
    "from kfserving import KFServingClient\n",
    "kfserving_client = KFServingClient()\n",
    "kfserving_client.get(namespace=my_namespace)"
   ]
  },
  {
   "cell_type": "markdown",
   "metadata": {},
   "source": [
    "### Get the InferenceService and Service Endpoint"
   ]
  },
  {
   "cell_type": "code",
   "execution_count": 14,
   "metadata": {},
   "outputs": [
    {
     "name": "stdout",
     "output_type": "stream",
     "text": [
      "Mnist Service Endpoint is: http://fairing-kfserving-wx78s.hejinchi.example.com/v1/models/fairing-kfserving-wx78s\n"
     ]
    }
   ],
   "source": [
    "# TBD @jinchihe Below code for getting kfserving name will be removed once the issue fixed:\n",
    "# https://github.com/kubeflow/fairing/issues/463\n",
    "created_isvc = kfserving_client.get(namespace=my_namespace)\n",
    "service_name = created_isvc['items'][-1]['metadata'].get('name', '')\n",
    "\n",
    "mnist_isvc = kfserving_client.get(service_name, namespace=my_namespace)\n",
    "print(\"Mnist Service Endpoint is: \" + mnist_isvc['status'].get('url', ''))"
   ]
  },
  {
   "cell_type": "markdown",
   "metadata": {},
   "source": [
    "## Clean Up"
   ]
  },
  {
   "cell_type": "markdown",
   "metadata": {},
   "source": [
    "Delete the TFJob"
   ]
  },
  {
   "cell_type": "code",
   "execution_count": 15,
   "metadata": {},
   "outputs": [
    {
     "data": {
      "text/plain": [
       "{'kind': 'Status',\n",
       " 'apiVersion': 'v1',\n",
       " 'metadata': {},\n",
       " 'status': 'Success',\n",
       " 'details': {'name': 'fairing-tfjob-zzxp2',\n",
       "  'group': 'kubeflow.org',\n",
       "  'kind': 'tfjobs',\n",
       "  'uid': 'b82aeb27-c26d-4fdd-bde2-541589156db3'}}"
      ]
     },
     "execution_count": 15,
     "metadata": {},
     "output_type": "execute_result"
    }
   ],
   "source": [
    "tfjob_client.delete(tfjob_name, namespace=my_namespace)"
   ]
  },
  {
   "cell_type": "markdown",
   "metadata": {},
   "source": [
    "Delete the InferenceService."
   ]
  },
  {
   "cell_type": "code",
   "execution_count": 16,
   "metadata": {},
   "outputs": [
    {
     "data": {
      "text/plain": [
       "{'kind': 'Status',\n",
       " 'apiVersion': 'v1',\n",
       " 'metadata': {},\n",
       " 'status': 'Success',\n",
       " 'details': {'name': 'fairing-kfserving-wx78s',\n",
       "  'group': 'serving.kubeflow.org',\n",
       "  'kind': 'inferenceservices',\n",
       "  'uid': 'd2876c95-338d-4d10-aff8-dcbb8772838e'}}"
      ]
     },
     "execution_count": 16,
     "metadata": {},
     "output_type": "execute_result"
    }
   ],
   "source": [
    "kfserving_client.delete(service_name, namespace=my_namespace)"
   ]
  },
  {
   "cell_type": "code",
   "execution_count": null,
   "metadata": {},
   "outputs": [],
   "source": []
  }
 ],
 "metadata": {
  "kernelspec": {
   "display_name": "Python 3",
   "language": "python",
   "name": "python3"
  },
  "language_info": {
   "codemirror_mode": {
    "name": "ipython",
    "version": 3
   },
   "file_extension": ".py",
   "mimetype": "text/x-python",
   "name": "python",
   "nbconvert_exporter": "python",
   "pygments_lexer": "ipython3",
   "version": "3.6.9"
  }
 },
 "nbformat": 4,
 "nbformat_minor": 4
}
